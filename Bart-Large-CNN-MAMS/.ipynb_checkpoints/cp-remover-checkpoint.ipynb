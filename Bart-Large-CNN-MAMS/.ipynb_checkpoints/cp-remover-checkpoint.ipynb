{
 "cells": [
  {
   "cell_type": "markdown",
   "id": "46b64dd5-57cc-46ed-8c62-8bf817bd7ba6",
   "metadata": {},
   "source": [
    "# Checkpoint Remove"
   ]
  },
  {
   "cell_type": "code",
   "execution_count": 1,
   "id": "98bf52c6-3d2e-47d3-9d3b-4b1a42576fc1",
   "metadata": {
    "tags": []
   },
   "outputs": [],
   "source": [
    "%rm -rf course-eval/Bart-Large-CNN/outputs"
   ]
  },
  {
   "cell_type": "markdown",
   "id": "ff386e31-f468-40bc-ad98-9d1c7fc1e1d7",
   "metadata": {},
   "source": [
    "# Model Remove"
   ]
  },
  {
   "cell_type": "code",
   "execution_count": 6,
   "id": "0c33fef4-62b7-407e-8b5f-e31cce908df9",
   "metadata": {},
   "outputs": [],
   "source": [
    "# %rm -rf course-eval/Bart-Large-CNN/outputs/BackTranslation"
   ]
  },
  {
   "cell_type": "markdown",
   "id": "b0f7bf64-6f97-4dc7-8f90-03f241aead96",
   "metadata": {},
   "source": [
    "# Output Directory Remove"
   ]
  },
  {
   "cell_type": "code",
   "execution_count": 9,
   "id": "792ed0e5-b326-4f1a-b6d4-654256ec5c3f",
   "metadata": {
    "tags": []
   },
   "outputs": [],
   "source": [
    "%rm -rf course-eval/Bart-Large-CNN/outputs-old/Original/4-fold"
   ]
  },
  {
   "cell_type": "code",
   "execution_count": null,
   "id": "d39fd690-90ae-48c9-840a-216b45c44b20",
   "metadata": {},
   "outputs": [],
   "source": []
  }
 ],
 "metadata": {
  "kernelspec": {
   "display_name": "Python 3",
   "language": "python",
   "name": "python3"
  },
  "language_info": {
   "codemirror_mode": {
    "name": "ipython",
    "version": 3
   },
   "file_extension": ".py",
   "mimetype": "text/x-python",
   "name": "python",
   "nbconvert_exporter": "python",
   "pygments_lexer": "ipython3",
   "version": "3.9.18"
  }
 },
 "nbformat": 4,
 "nbformat_minor": 5
}
