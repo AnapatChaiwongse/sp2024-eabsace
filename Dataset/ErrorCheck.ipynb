{
 "cells": [
  {
   "cell_type": "code",
   "execution_count": 4,
   "id": "8b059ef6-73b7-44e2-9dd8-d2c88536cd79",
   "metadata": {
    "tags": []
   },
   "outputs": [],
   "source": [
    "for i in range(5):\n",
    "    file_path = f\"course-eval/Dataset/Original/Splited/{i+1}-fold/Original-{i+1}_train.txt\"  \n",
    "\n",
    "    with open(file_path, \"r\") as file:\n",
    "        for line_number, line in enumerate(file, start=1):\n",
    "            if line.count(\"\u0001\") > 2:\n",
    "                print(f\"{file_path}\")\n",
    "                print(f\"Line {line_number} contains more than 2 occurrences of '\\\\x01': {line.strip()}\")\n"
   ]
  },
  {
   "cell_type": "code",
   "execution_count": null,
   "id": "b3e59a2f-a2c4-4950-8527-94fab76f9188",
   "metadata": {},
   "outputs": [],
   "source": []
  }
 ],
 "metadata": {
  "kernelspec": {
   "display_name": "Python 3",
   "language": "python",
   "name": "python3"
  },
  "language_info": {
   "codemirror_mode": {
    "name": "ipython",
    "version": 3
   },
   "file_extension": ".py",
   "mimetype": "text/x-python",
   "name": "python",
   "nbconvert_exporter": "python",
   "pygments_lexer": "ipython3",
   "version": "3.9.18"
  }
 },
 "nbformat": 4,
 "nbformat_minor": 5
}
