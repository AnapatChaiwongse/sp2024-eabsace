{
 "cells": [
  {
   "cell_type": "code",
   "execution_count": 1,
   "id": "fb414f6a-5232-4289-9b96-c74396fb2d9c",
   "metadata": {
    "tags": []
   },
   "outputs": [
    {
     "name": "stdout",
     "output_type": "stream",
     "text": [
      "CourseEvaluation-EN.txt  \u001b[0m\u001b[01;34mSplited\u001b[0m/\n"
     ]
    }
   ],
   "source": [
    "ls course-eval/Dataset/Original"
   ]
  },
  {
   "cell_type": "markdown",
   "id": "48eb9f80-aca8-4c7e-ae76-33b2e1f84e0c",
   "metadata": {},
   "source": [
    "# Original"
   ]
  },
  {
   "cell_type": "code",
   "execution_count": 2,
   "id": "e634d995-f6be-4931-84e0-98924720f8f2",
   "metadata": {
    "tags": []
   },
   "outputs": [],
   "source": [
    "import datasets\n",
    "from sklearn.model_selection import train_test_split\n",
    "import random"
   ]
  },
  {
   "cell_type": "code",
   "execution_count": 4,
   "id": "a598f016-9864-4589-991b-400d52960ed4",
   "metadata": {
    "tags": []
   },
   "outputs": [
    {
     "name": "stdout",
     "output_type": "stream",
     "text": [
      "1-fold ==========================\n",
      "Original count: 806\n",
      "Train count: 644\n",
      "Test count: 162\n",
      "['I think the lesson is too hard for me to absorb, however, I will try my best to understand those things!\\x01The sentiment polarity of organization is neutral .\\n', 'I believe that having some short breaks during 3 hours class would not hurt the flow of the class, so I would like to suggest to allow students for some breaks during class.\\x01The sentiment polarity of motivation is neutral .\\n', 'There should be more hour studying this course.And there is a problem similar to the exam to practice\\x01The sentiment polarity of content quality is neutral .\\n', 'Professor received homework in class, so when i get sick i cannot sent the homework properly. I think ajarn should use [software] to sent the homework. It does not make sense that student must send the homework without using [system] while in online session student can send the assignment with tools.\\x01The sentiment polarity of motivation is neutral .\\n', 'At the time of writing, how to use other apps instead, such as the [Software], [software] etc. Because writing in [software] is quite delay and makes it difficult to read sometimes.Thank you in advance.\\x01The sentiment polarity of content quality is neutral .\\n']\n",
      "2-fold ==========================\n",
      "Original count: 806\n",
      "Train count: 644\n",
      "Test count: 162\n",
      "['Homework due date should be next date from when it assign.\\x01The sentiment polarity of motivation is neutral .\\n', 'Order a lot of workBut gives very little time to work\\x01The sentiment polarity of instructor is neutral .\\n', \"It's difficult install [software] on Unix based devices, especially with the modern ARM processors, [software] only supports the x86_64 architecture. I think there are plenty of alternatives that natively support both x86_64 and arm64 chipsets (maybe the ones that are web based or written in java), as running Netica through emulation causes the program to be unstable and crashes alot (Tested on x86_64 Suse Tumbleweed and arm64 Windows, there are cases where my friends with m1 macbooks aren't able to install at all).\\x01The sentiment polarity of organization is neutral .\\n\", 'The teacher taught is a little too fast.\\x01The sentiment polarity of organization is neutral .\\n', 'he is a kind person and can be a good advisor, however he is not a good instructor at all since he cannot delivered the knowledge in the class to make the student understand.\\x01The sentiment polarity of motivation is neutral .\\n']\n",
      "3-fold ==========================\n",
      "Original count: 806\n",
      "Train count: 644\n",
      "Test count: 162\n",
      "['after midterm with [Instructor] isn\\'t really good, his teaching method is difficult to understands yet he blames students to use \"ears and eyes\" to look and listen. he\\'s not easy to approach.\\x01The sentiment polarity of instructor is negative.\\n', 'The lecture slides content is sometimes having too much content for students to digest, but still appreciated studying this course with [instructor] and [instructor].\\x01The sentiment polarity of organization is neutral .\\n', 'Your teaching styles were easy to understand. (:D)\\x01The sentiment polarity of motivation is neutral .\\n', 'Teacher doesn’t have responsibility to prepare slide because we waste time for this 1 hr from 1hr 30min. [instructor] didn’t clearly speak in class. i don’t understand anything that he want until i think i weak english skill but when i study in extra class, i will know.\\x01The sentiment polarity of instructor is negative .\\n', 'Want the teacher to pay attention to all students\\x01The sentiment polarity of instructor is negative .\\n']\n",
      "4-fold ==========================\n",
      "Original count: 806\n",
      "Train count: 644\n",
      "Test count: 162\n",
      "['recessively boring and useless subject indeed\\x01The sentiment polarity of content quality is neutral .\\n', 'I would like this course to be more practical. It is mostly about the theory, which cannot engage students to learn more about [course] even though it is fun and useful in real life. I wish it to focus more on the real implementation and reduce the theory part.\\x01The sentiment polarity of content quality is neutral .\\n', 'I think that [instructor] accent is hard to understand\\x01The sentiment polarity of content quality is neutral .\\n', 'Would like the teacher to help focus more on the child behind the roomWould like to teach more slowly for all students to have more efficiency\\x01The sentiment polarity of instructor is negative .\\n', 'Deadline in sending work is quite fast in some events.\\x01The sentiment polarity of motivation is neutral .']\n",
      "5-fold ==========================\n",
      "Original count: 806\n",
      "Train count: 644\n",
      "Test count: 162\n",
      "['Deadline in sending work is quite fast in some events.\\x01The sentiment polarity of organization is negative .\\n', 'The content at some point is still teaching and does not understand.\\x01The sentiment polarity of motivation is neutral .\\n', 'he is a kind person and can be a good advisor, however he is not a good instructor at all since he cannot delivered the knowledge in the class to make the student understand.\\x01The sentiment polarity of motivation is neutral .\\n', 'I love teachers bc they have read our work before q@&a session so they can provide good feedback\\x01The sentiment polarity of organization is positive .\\n', 'The content at some point is still teaching and does not understand.\\x01The sentiment polarity of content quality is negative .\\n']\n"
     ]
    }
   ],
   "source": [
    "path = f\"course-eval/Dataset/Original/CourseEvaluation-EN.txt\"\n",
    "file = []\n",
    "kfold = 5\n",
    "\n",
    "f = open(path, \"r\")\n",
    "for x in f:\n",
    "  file.append(x)\n",
    "\n",
    "fold = 1\n",
    "while fold <= 5:\n",
    "    random.shuffle(file)\n",
    "\n",
    "    data_train, data_test = train_test_split(file, test_size = 0.2, shuffle = True)\n",
    "\n",
    "    print(f\"{fold}-fold ==========================\")\n",
    "    print(f\"Original count: {len(file)}\")\n",
    "    print(f\"Train count: {len(data_train)}\")\n",
    "    print(f\"Test count: {len(data_test)}\")\n",
    "\n",
    "    print(data_train[:5])\n",
    "\n",
    "    with open(f\"course-eval/Dataset/Original/Splited/{fold}-fold/Original-{fold}_train.txt\", \"w\") as train_file:\n",
    "        for line in data_train:\n",
    "            train_file.write(line)\n",
    "\n",
    "    with open(f\"course-eval/Dataset/Original/Splited/{fold}-fold/Original-{fold}_test.txt\", \"w\") as test_file:\n",
    "        for line in data_test:\n",
    "            test_file.write(line)\n",
    "    fold = fold + 1"
   ]
  },
  {
   "cell_type": "markdown",
   "id": "2cacfe87-003d-4991-92f3-9e6a0c37b2a1",
   "metadata": {},
   "source": [
    "# ParrotParaphraser"
   ]
  },
  {
   "cell_type": "code",
   "execution_count": 4,
   "id": "8d08479a-d038-4592-b84b-fb37089e33a1",
   "metadata": {
    "tags": []
   },
   "outputs": [
    {
     "name": "stdout",
     "output_type": "stream",
     "text": [
      "1-fold ==========================\n",
      "Original count: 1111\n",
      "Train count: 888\n",
      "Test count: 223\n",
      "[\"the instructor's sound is often hard to hear\\x01The sentiment polarity of motivation is neutral .\\n\", 'Everyone should have an Extra Point. No one can do it on the board.Because some people have already studied and still do not understandResulting in only a good person and thinks quickly to write on the board to get an Extra Point score, so it should be given to people who have not received an Extra Point to do some to get the Extra Point scores like those who can do it.\\x01The sentiment polarity of content quality is neutral .\\n', \"i'd like the teacher to have a past video because i'd like to review more in order to understand more content\\x01The sentiment polarity of content quality is neutral .\\n\", 'Too many assignments in my opinion\\x01The sentiment polarity of organization is neutral .\\n', 'I think we quiz when the class begins better than we just go to the faculty to take 15 minutes quiz on Wednesday because I take around 2 hours to come to the faculty from my home.\\x01The sentiment polarity of instructor is neutral .\\n']\n",
      "2-fold ==========================\n",
      "Original count: 1111\n",
      "Train count: 888\n",
      "Test count: 223\n",
      "['great teacher, very caring and respectful. unfortunately the classes are usually at the evening of the day. on the other hand, the workloads on other subjects redusce the time we can spend with the study buddies and self-learning significantly\\x01The sentiment polarity of instructor is positive .\\n', 'Assignments’s Deadline too early.\\x01The sentiment polarity of motivation is neutral .\\n', 'Your teaching styles were easy to understand. (:D)\\x01The sentiment polarity of instructor is positive .\\n', 'I enjoyed this class. [instructor] make me feel this subject is easier than I thought. Thank you for teaching.\\x01The sentiment polarity of content quality is neutral .\\n', 'Thank you so much for having [instructor] as our advisor. [instructor] is really nice mentor. [instructor] gave us lots of effective and on-point comments so that we can understand and improve ourselves in a not-too-stress atmosphere. Appreciated it so much, thank you.\\x01The sentiment polarity of organization is neutral .\\n']\n",
      "3-fold ==========================\n",
      "Original count: 1111\n",
      "Train count: 888\n",
      "Test count: 223\n",
      "['I think changing to other studies should be more useful (such as [Course] etc.)\\x01The sentiment polarity of motivation is neutral .\\n', 'Felt that the slide was not detailed when compared to [SECTION] when teaching was quite fastProblems and homework should be provided.Or may be able to check the homework in order to see the solution that must be practiced\\x01The sentiment polarity of organization is neutral .\\n', '1.2 hours of consecutive studying is too much for me to stay focused. I prefer 2 breaks during a class like [course].\\x01The sentiment polarity of instructor is neutral .\\n', 'would you like to have a link that can write and edit the group list so that some students who do not have a group can know that there are no groups and request to join the group with other groups\\x01The sentiment polarity of organization is negative .\\n', 'I like to study with the teacher very much. I like the accent, like the attention of the teacher.\\x01The sentiment polarity of content quality is neutral .\\n']\n",
      "4-fold ==========================\n",
      "Original count: 1111\n",
      "Train count: 888\n",
      "Test count: 223\n",
      "[\"I like the teacher very much. I understand. I know about it, but because I am not very practicing so I can't do it.\\x01The sentiment polarity of organization is neutral .\\n\", 'There should be more hour studying this course.And there is a problem similar to the exam to practice\\x01The sentiment polarity of motivation is neutral .\\n', \"the teacher doesn't follow me often because of my english\\x01The sentiment polarity of instructor is negative .\\n\", 'continue with this teaching method\\x01The sentiment polarity of content quality is neutral .\\n', \"Please slow down a little bit. I mostly can't catch up with taking the note.\\x01The sentiment polarity of content quality is neutral .\\n\"]\n",
      "5-fold ==========================\n",
      "Original count: 1111\n",
      "Train count: 888\n",
      "Test count: 223\n",
      "['[instructor] teachings are quite confusing, yes, the [course] subject itself is very hard, but [instructor] style of teaching makes it quite hard to understand the meaning, add to that the slides are not quite detailed and vague in meaning. One particular unbelievable moment is giving assignments a week before an exam, yes, the assignment is useful but at least give us that final assignment much earlier than that.\\x01The sentiment polarity of content quality is negative .\\n', 'i thank you for your teaching and thank you for teaching us\\x01The sentiment polarity of content quality is neutral .\\n', 'Remove this subject\\x01The sentiment polarity of instructor is neutral .\\n', 'i like to study with the teacher very much i like the accent and attention of the teacher\\x01The sentiment polarity of content quality is neutral .\\n', 'I like to study with the teacher very much. I like the accent, like the attention of the teacher.\\x01The sentiment polarity of content quality is neutral .\\n']\n"
     ]
    }
   ],
   "source": [
    "kfold = 5\n",
    "path = f\"course-eval/Dataset/ParrotParaphraser/parrot_CourseEva.txt\"\n",
    "file = []\n",
    "\n",
    "f = open(path, \"r\")\n",
    "for x in f:\n",
    "  file.append(x)\n",
    "\n",
    "fold = 1\n",
    "while fold <= 5:\n",
    "    random.shuffle(file)\n",
    "\n",
    "    data_train, data_test = train_test_split(file, test_size = 0.2, shuffle = True)\n",
    "\n",
    "    print(f\"{fold}-fold ==========================\")\n",
    "    print(f\"Original count: {len(file)}\")\n",
    "    print(f\"Train count: {len(data_train)}\")\n",
    "    print(f\"Test count: {len(data_test)}\")\n",
    "\n",
    "    print(data_train[:5])\n",
    "\n",
    "    with open(f\"course-eval/Dataset/ParrotParaphraser/Splited/{fold}-fold/Parrot-{fold}_train.txt\", \"w\") as train_file:\n",
    "        for line in data_train:\n",
    "            train_file.write(line)\n",
    "\n",
    "    with open(f\"course-eval/Dataset/ParrotParaphraser/Splited/{fold}-fold/Parrot-{fold}_test.txt\", \"w\") as test_file:\n",
    "        for line in data_test:\n",
    "            test_file.write(line)\n",
    "    fold = fold + 1"
   ]
  },
  {
   "cell_type": "markdown",
   "id": "e238c186-e3ab-4289-a720-e3ea9eb288a1",
   "metadata": {},
   "source": [
    "# Back-Translation"
   ]
  },
  {
   "cell_type": "code",
   "execution_count": null,
   "id": "41a6dc64-8022-4acf-a995-37d21ba42c1f",
   "metadata": {
    "tags": []
   },
   "outputs": [],
   "source": [
    "path = f\"course-eval/Dataset/Back-Translation/backtranslate_CourseEva.txt\"\n",
    "file = []\n",
    "kfold = 5\n",
    "\n",
    "f = open(path, \"r\")\n",
    "for x in f:\n",
    "  file.append(x)\n",
    "\n",
    "fold = 1\n",
    "while fold <= 5:\n",
    "    random.shuffle(file)\n",
    "\n",
    "    data_train, data_test = train_test_split(file, test_size = 0.2, shuffle = True)\n",
    "\n",
    "    print(f\"{fold}-fold ==========================\")\n",
    "    print(f\"Original count: {len(file)}\")\n",
    "    print(f\"Train count: {len(data_train)}\")\n",
    "    print(f\"Test count: {len(data_test)}\")\n",
    "\n",
    "    print(data_train[:5])\n",
    "\n",
    "    with open(f\"course-eval/Dataset/Back-Translation/Splited/{fold}-fold/BackTranslation-{fold}_train.txt\", \"w\") as train_file:\n",
    "        for line in data_train:\n",
    "            train_file.write(line)\n",
    "\n",
    "    with open(f\"course-eval/Dataset/Back-Translation/Splited/{fold}-fold/BackTranslation-{fold}_test.txt\", \"w\") as test_file:\n",
    "        for line in data_test:\n",
    "            test_file.write(line)\n",
    "    fold = fold + 1"
   ]
  }
 ],
 "metadata": {
  "kernelspec": {
   "display_name": "Python 3",
   "language": "python",
   "name": "python3"
  },
  "language_info": {
   "codemirror_mode": {
    "name": "ipython",
    "version": 3
   },
   "file_extension": ".py",
   "mimetype": "text/x-python",
   "name": "python",
   "nbconvert_exporter": "python",
   "pygments_lexer": "ipython3",
   "version": "3.9.18"
  }
 },
 "nbformat": 4,
 "nbformat_minor": 5
}
