{
 "cells": [
  {
   "cell_type": "markdown",
   "id": "96d7f4a6-2f2b-4776-a3d7-bd0501ef5a88",
   "metadata": {},
   "source": [
    "# Original datasets"
   ]
  },
  {
   "cell_type": "code",
   "execution_count": 3,
   "id": "fdaa6cc2-ea0a-4ba5-8f53-8f26f30b3324",
   "metadata": {
    "tags": []
   },
   "outputs": [
    {
     "name": "stdout",
     "output_type": "stream",
     "text": [
      "1-fold ==========================\n",
      "['At the time of writing, how to use other apps instead, such as the [Software], [software] etc. Because writing in [software] is quite delay and makes it difficult to read sometimes.Thank you in advance.\\x01The sentiment polarity of organization is neutral .', 'I think changing to other studies should be more useful (such as [Course] etc.)\\x01The sentiment polarity of instructor is neutral .', \"Please slow down a little bit. I mostly can't catch up with taking the note.\\x01The sentiment polarity of organization is negative .\", \"Please let students have attendance checks while some phones aren't capable to scan from some distance or have another way for attendance\\x01The sentiment polarity of content quality is neutral .\", 'When there is a question, the teacher cannot answer the question.Told me to ask a friend who felt that it was the duty of the teacherTeaching media is quite bad.Slide each week, switch back and forth without proportion.\\x01The sentiment polarity of organization is neutral .']\n",
      "2-fold ==========================\n",
      "['TA is very efficient.\\x01The sentiment polarity of instructor is positive .', 'Would like to have a link that can write and edit the group listSo that some students who do not have a group can know that there are no groups and request to join the group with other groups.\\x01The sentiment polarity of content quality is neutral .', 'Finding terms and vocabs are useless.\\x01The sentiment polarity of instructor is neutral .', 'The teacher taught very well.\\x01The sentiment polarity of instructor is positive .', 'Could AJ use the slide that does not contain a solid color such as blue or black background because when students have to print the material for the examination, they are difficult to read or have to print it using color ink or Could AJ please give the slide in the format that we can edit by ourselves?\\x01The sentiment polarity of content quality is neutral .']\n",
      "3-fold ==========================\n",
      "['[instructor] teachings are quite confusing, yes, the [course] subject itself is very hard, but [instructor] style of teaching makes it quite hard to understand the meaning, add to that the slides are not quite detailed and vague in meaning. One particular unbelievable moment is giving assignments a week before an exam, yes, the assignment is useful but at least give us that final assignment much earlier than that.\\x01The sentiment polarity of organization is negative .', \"[instructor] is impolite sometimes, teaches not well, very little people show up in the class because they have no clue what they're studying and they do not find learning with  [instructor] enjoying or easily understandable. [instructor]'s method is much better than [instructor],  [instructor] has full class of student whereas no body wants to come to  [instructor]'s class.  [instructor] health is not good and interrupt the lesson,  [instructor] teaching method is not fun.\\x01The sentiment polarity of content quality is negative .\", 'There are many students each year that fail this course. Therefore, I think the faculty should consider that this course could change and examine it.\\x01The sentiment polarity of content quality is negative .', 'Love the way you teach us, I appreciate it!\\x01The sentiment polarity of content quality is neutral .', 'Many workloads\\x01The sentiment polarity of motivation is neutral .']\n",
      "4-fold ==========================\n",
      "['Quiz too much\\x01The sentiment polarity of instructor is neutral .', 'Remove this subject\\x01The sentiment polarity of motivation is neutral .', 'A fun subject to study, with a reasonable workload.\\x01The sentiment polarity of instructor is neutral .', 'Change the way U taught, not copy from book. Make it simplify and easy for student to learn.\\x01The sentiment polarity of instructor is negative .', \"Please slow down a little bit. I mostly can't catch up with taking the note.\\x01The sentiment polarity of content quality is neutral .\"]\n",
      "5-fold ==========================\n",
      "['The teacher gives a snack when resting during the class and asking students if they can do it or not.Master cares well.\\x01The sentiment polarity of organization is neutral .', 'I believe that having some short breaks during 3 hours class would not hurt the flow of the class, so I would like to suggest to allow students for some breaks during class.\\x01The sentiment polarity of content quality is neutral .', 'The assignment sometimes does not really make a lot d sense.\\x01The sentiment polarity of motivation is neutral .', 'Would like to have more HW work than the exam\\x01The sentiment polarity of motivation is neutral .', 'The slides given have too many words, formulas, and diagrams, and I am overwhelmed by them.\\x01The sentiment polarity of motivation is neutral .']\n"
     ]
    }
   ],
   "source": [
    "fold = 1\n",
    "while fold <= 5:\n",
    "    path = f\"course-eval/Dataset/testset/testset{fold}\"\n",
    "    file = []\n",
    "    \n",
    "    # Read the input file\n",
    "    with open(path, \"r\") as f:\n",
    "        for x in f:\n",
    "            file.append(x.strip())\n",
    "\n",
    "    print(f\"{fold}-fold ==========================\")\n",
    "    print(file[:5])  # Print the first 5 lines for preview\n",
    "\n",
    "    output_path = f\"course-eval/Dataset/Testset/testformat{fold}.txt\"\n",
    "\n",
    "    # Write to the output file\n",
    "    with open(output_path, \"w\") as testformat_file:\n",
    "        for line in file:\n",
    "            try:\n",
    "                parts = line.split(\"\u0001\")\n",
    "                if len(parts) >= 2:  # Ensure parts exist\n",
    "                    sentence = parts[0].strip()\n",
    "                    sentiment_statement = parts[1].strip()\n",
    "                    \n",
    "                    split_statement = sentiment_statement.replace(\"The sentiment polarity of \", \"\").replace(\".\", \"\").strip()\n",
    "                    term, polarity = split_statement.split(\" is \")\n",
    "\n",
    "                    new_line = f\"{sentence}\u0001{term}\u0001{polarity}\"\n",
    "                    testformat_file.write(new_line + \"\\n\")\n",
    "                else:\n",
    "                    print(f\"Skipping malformed line: {line}\")\n",
    "\n",
    "            except ValueError as e:\n",
    "                # Handle errors in split or unexpected formats\n",
    "                print(f\"Error processing line: {line}\")\n",
    "                print(f\"Error details: {e}\")\n",
    "\n",
    "    fold += 1\n"
   ]
  },
  {
   "cell_type": "markdown",
   "id": "3ca3a9c7-8236-41ad-a2d0-851e9bf77bd2",
   "metadata": {},
   "source": [
    "# Back-Translation"
   ]
  },
  {
   "cell_type": "code",
   "execution_count": null,
   "id": "1c6bdf09-df52-4afe-8d2c-4ef82ccb54b2",
   "metadata": {},
   "outputs": [],
   "source": [
    "fold = 1\n",
    "while fold <= 5:\n",
    "    path = f\"course-eval/Dataset/Back-Translation/Splited/{str(fold)}-fold/BackTranslation-{str(fold)}_test.txt\"\n",
    "    file = []\n",
    "    \n",
    "    with open(path, \"r\") as f:\n",
    "        for x in f:\n",
    "            file.append(x.strip()) \n",
    "\n",
    "    print(f\"{fold}-fold ==========================\")\n",
    "    print(file[:5]) \n",
    "\n",
    "    output_path = f\"course-eval/Dataset/Back-Translation/Splited/{str(fold)}-fold/testformat.txt\"\n",
    "\n",
    "    with open(output_path, \"w\") as testformat_file:\n",
    "        for line in file:\n",
    "\n",
    "            parts = line.split(\"\u0001\")\n",
    "            if len(parts) >= 2:  \n",
    "                sentence = parts[0].strip()\n",
    "                sentiment_statement = parts[1].strip()\n",
    "                \n",
    "                split_statement = sentiment_statement.replace(\"The sentiment polarity of \", \"\").replace(\".\", \"\").strip()\n",
    "                term, polarity = split_statement.split(\" is \")\n",
    "\n",
    "                new_line = f\"{sentence}\u0001{term}\u0001{polarity}\"\n",
    "\n",
    "                testformat_file.write(new_line + \"\\n\")\n",
    "\n",
    "    fold += 1\n"
   ]
  },
  {
   "cell_type": "markdown",
   "id": "788698a0-9b3e-4bbc-bd29-7d4087fef151",
   "metadata": {},
   "source": [
    "# Parrot"
   ]
  },
  {
   "cell_type": "code",
   "execution_count": 2,
   "id": "fb7fc74e-6790-4ed8-bf26-72743250c5d7",
   "metadata": {
    "tags": []
   },
   "outputs": [
    {
     "name": "stdout",
     "output_type": "stream",
     "text": [
      "1-fold ==========================\n",
      "['The lecture is easy to understand after the instructor has taught.\\x01The sentiment polarity of organization is positive .', 'i do not think the part of homework has to be as important\\x01The sentiment polarity of motivation is neutral .', 'The teacher gives a snack when resting during the class and asking students if they can do it or not.Master cares well.\\x01The sentiment polarity of motivation is neutral .', 'I want to thank you for every time Ajarn gives me advice. you are the best!\\x01The sentiment polarity of organization is neutral .', \"too many hw. Isn't it just an elective course?\\x01The sentiment polarity of content quality is neutral .\"]\n",
      "2-fold ==========================\n",
      "['Everything is great, but the midterm exam is quite hard lol, maybe I have to try harder to understand it.\\x01The sentiment polarity of instructor is neutral .', 'Too much works\\x01The sentiment polarity of instructor is neutral .', 'If the class requires students to take the quiz on site, it should be arranged in class time.\\x01The sentiment polarity of content quality is neutral .', 'I enjoyed this class. [instructor] make me feel this subject is easier than I thought. Thank you for teaching.\\x01The sentiment polarity of instructor is positive .', 'Very great, you made this class more enjoyable.\\x01The sentiment polarity of organization is neutral .']\n",
      "3-fold ==========================\n",
      "[\"The teacher does not understand, must read almost 100%. There is no understanding of the content at all.I don't know how the content taught.Speaking sarcasticallyWhen there is a consultation in the classDue to not understanding and unable to catch upThe teacher has a rating to go out of the room, which actually has the duty to teach aboutIf teachingNo need to talk to each other.Speak on the moodExpressed the maturity of the instructorWould like the teacher to focus more on teaching\\x01The sentiment polarity of motivation is negative .\", 'Great teaching skills, really care about students\\x01The sentiment polarity of content quality is neutral .', 'This course is very difficult expecially the last part. I think there should be some adjustment to the cirriculum and maybe exclue some topic. Some topics are too complicated to be taught in an entry level class in my opinion.\\x01The sentiment polarity of content quality is negative.', 'nevertheless it is difficult to understand what is taught i feel that self-learning is definitely necessary if you see this instructor teaching\\x01The sentiment polarity of organization is neutral .', 'i think the instructor accent is difficult to understand\\x01The sentiment polarity of content quality is neutral .']\n",
      "4-fold ==========================\n",
      "['Cant understand what teacher taught\\x01The sentiment polarity of motivation is neutral .', \"in some instances the assignment doesn't make much sense\\x01The sentiment polarity of instructor is neutral .\", 'Homework that is done without a clear answer, resulting in the idea that it is a trainingBut doing without knowing whether it is wrong or not, it may be benefited anyway.\\x01The sentiment polarity of motivation is neutral .', \"I felt like it's hard to get full picture of what's going on in the lecture class. It'd be better if the entire class is writing code together on the computer during lecture, then let everyone do their own lab afterward. That'd give us better understanding of what's going on.\\x01The sentiment polarity of organization is negative .\", 'Very great, you made this class more enjoyable.\\x01The sentiment polarity of motivation is positive .']\n",
      "5-fold ==========================\n",
      "[\"i'm glad you made this class more enjoyable\\x01The sentiment polarity of organization is neutral .\", 'It would be great if we can get more information about the project description. such as score criteria, project requirements, project limitations\\x01The sentiment polarity of motivation is neutral .', 'Felt that the slide was not detailed when compared to [SECTION] when teaching was quite fastProblems and homework should be provided.Or may be able to check the homework in order to see the solution that must be practiced\\x01The sentiment polarity of motivation is neutral .', 'Would like the teacher to have a past videoBecause I would like to review more in order to understand more content\\x01The sentiment polarity of motivation is neutral .', 'i do not think the part of homework has to be as important\\x01The sentiment polarity of organization is neutral .']\n"
     ]
    }
   ],
   "source": [
    "fold = 1\n",
    "while fold <= 5:\n",
    "    path = f\"course-eval/Dataset/ParrotParaphraser/Splited/{str(fold)}-fold/Parrot-{str(fold)}_test.txt\"\n",
    "    file = []\n",
    "    \n",
    "    with open(path, \"r\") as f:\n",
    "        for x in f:\n",
    "            file.append(x.strip()) \n",
    "\n",
    "    print(f\"{fold}-fold ==========================\")\n",
    "    print(file[:5]) \n",
    "\n",
    "    output_path = f\"course-eval/Dataset/ParrotParaphraser/Splited/{str(fold)}-fold/testformat.txt\"\n",
    "\n",
    "    with open(output_path, \"w\") as testformat_file:\n",
    "        for line in file:\n",
    "\n",
    "            parts = line.split(\"\u0001\")\n",
    "            if len(parts) >= 2:  \n",
    "                sentence = parts[0].strip()\n",
    "                sentiment_statement = parts[1].strip()\n",
    "                \n",
    "                split_statement = sentiment_statement.replace(\"The sentiment polarity of \", \"\").replace(\".\", \"\").strip()\n",
    "                term, polarity = split_statement.split(\" is \")\n",
    "\n",
    "                new_line = f\"{sentence}\u0001{term}\u0001{polarity}\"\n",
    "\n",
    "                testformat_file.write(new_line + \"\\n\")\n",
    "\n",
    "    fold += 1\n"
   ]
  },
  {
   "cell_type": "code",
   "execution_count": null,
   "id": "50847cd4-3b76-4a11-8e46-8804fbfd0dae",
   "metadata": {},
   "outputs": [],
   "source": []
  }
 ],
 "metadata": {
  "kernelspec": {
   "display_name": "Python+NGC on Kubernetes Operator 240916080250",
   "language": "python",
   "name": "jupyter-eg-kernel-k8s-cmjkop-ngc-py-1i7s5upl0"
  },
  "language_info": {
   "codemirror_mode": {
    "name": "ipython",
    "version": 3
   },
   "file_extension": ".py",
   "mimetype": "text/x-python",
   "name": "python",
   "nbconvert_exporter": "python",
   "pygments_lexer": "ipython3",
   "version": "3.10.12"
  }
 },
 "nbformat": 4,
 "nbformat_minor": 5
}
