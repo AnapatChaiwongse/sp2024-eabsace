{
 "cells": [
  {
   "cell_type": "code",
   "execution_count": null,
   "metadata": {},
   "outputs": [],
   "source": [
    "# !pip install git+https://github.com/PrithivirajDamodaran/Parrot_Paraphraser.git\n",
    "# !pip install pandas\n",
    "# !pip install protobuf\n",
    "# !pip install -U scikit-learn"
   ]
  },
  {
   "cell_type": "code",
   "execution_count": 2,
   "metadata": {},
   "outputs": [],
   "source": [
    "from parrot import Parrot\n",
    "from difflib import SequenceMatcher\n",
    "import torch\n",
    "import difflib\n",
    "import pandas\n",
    "import re\n",
    "import warnings\n",
    "warnings.filterwarnings(\"ignore\")"
   ]
  },
  {
   "cell_type": "code",
   "execution_count": 3,
   "metadata": {},
   "outputs": [],
   "source": [
    "def random_state(seed):\n",
    "  torch.manual_seed(seed)\n",
    "  if torch.cuda.is_available():\n",
    "    torch.cuda.manual_seed_all(seed)\n",
    "\n",
    "random_state(1234)"
   ]
  },
  {
   "cell_type": "code",
   "execution_count": 4,
   "metadata": {},
   "outputs": [
    {
     "name": "stderr",
     "output_type": "stream",
     "text": [
      "You are using the default legacy behaviour of the <class 'transformers.models.t5.tokenization_t5.T5Tokenizer'>. This is expected, and simply means that the `legacy` (previous) behavior will be used so nothing changes for you. If you want to use the new behaviour, set `legacy=False`. This should only be set if you understand what it means, and thoroughly read the reason why this was added as explained in https://github.com/huggingface/transformers/pull/24565\n"
     ]
    }
   ],
   "source": [
    "parrot = Parrot(model_tag=\"prithivida/parrot_paraphraser_on_T5\")"
   ]
  },
  {
   "cell_type": "code",
   "execution_count": 5,
   "metadata": {},
   "outputs": [],
   "source": [
    "phrases = [\"Thank you for teaching this good.\",\n",
    "           \"Explain both Thai and English. Covering the whole lesson. Thank you very much.\",\n",
    "           \"Would like to have more HW work than the exam\"]"
   ]
  },
  {
   "cell_type": "code",
   "execution_count": 39,
   "metadata": {},
   "outputs": [
    {
     "name": "stdout",
     "output_type": "stream",
     "text": [
      "----------------------------------------------------------------------------------------------------\n",
      "Original:  Thank you for teaching this good.\n",
      "Augmented: thank you for the good teaching\n",
      "Percent of changing: 34.00%\n",
      "----------------------------------------------------------------------------------------------------\n",
      "Original:  Explain both Thai and English. Covering the whole lesson. Thank you very much.\n",
      "Augmented: Explain both Thai and English. Covering the whole lesson. Thank you very much.\n",
      "Percent of changing: 0.00%\n",
      "----------------------------------------------------------------------------------------------------\n",
      "Original:  Would like to have more HW work than the exam\n",
      "Augmented: Would like to have more HW work than the exam\n",
      "Percent of changing: 0.00%\n",
      "----------------------------------------------------------------------------------------------------\n",
      "Average: 11.33\n"
     ]
    }
   ],
   "source": [
    "augment_percents = []\n",
    "ranker = \"levenshtein\" # levenshtein, euclidean, diff\n",
    "\n",
    "for phrase in phrases:\n",
    "  print(\"-\"*100)\n",
    "  para_phrases = parrot.augment(input_phrase=phrase,\n",
    "                                use_gpu=False,\n",
    "                                diversity_ranker=ranker, \n",
    "                                max_return_phrases = 10, \n",
    "                                max_length=32, \n",
    "                                )\n",
    "\n",
    "  # for para_phrase in para_phrases:\n",
    "  print(\"Original:  \" + re.sub('\\s+', ' ', str(phrase).strip()))\n",
    "  print(\"Augmented: \" + re.sub('\\s+', ' ', str(para_phrases[0][0]).strip()))\n",
    "  a = re.sub('\\s+', ' ', str(phrase).strip())\n",
    "  b = re.sub('\\s+', ' ', str(para_phrases[0][0]).strip())\n",
    "  \n",
    "  augment_percent = round(1 - SequenceMatcher(a=a, b=b).ratio(), 2) * 100\n",
    "  print(\"Percent of changing: \" + str(format(augment_percent, \".2f\")) + \"%\")\n",
    "  augment_percents.append(augment_percent)\n",
    "\n",
    "print(\"-\"*100)\n",
    "print(\"Average: \" + str(round(sum(augment_percents) / len(augment_percents), 2)))"
   ]
  },
  {
   "cell_type": "code",
   "execution_count": null,
   "metadata": {},
   "outputs": [],
   "source": []
  }
 ],
 "metadata": {
  "kernelspec": {
   "display_name": "llama3",
   "language": "python",
   "name": "python3"
  },
  "language_info": {
   "codemirror_mode": {
    "name": "ipython",
    "version": 3
   },
   "file_extension": ".py",
   "mimetype": "text/x-python",
   "name": "python",
   "nbconvert_exporter": "python",
   "pygments_lexer": "ipython3",
   "version": "3.12.4"
  }
 },
 "nbformat": 4,
 "nbformat_minor": 2
}
